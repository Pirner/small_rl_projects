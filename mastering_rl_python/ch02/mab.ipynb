{
 "cells": [
  {
   "cell_type": "markdown",
   "metadata": {},
   "source": [
    "# MAB Definition"
   ]
  },
  {
   "cell_type": "markdown",
   "metadata": {},
   "source": [
    "## Class for simulating a slot machine"
   ]
  },
  {
   "cell_type": "code",
   "execution_count": 5,
   "metadata": {},
   "outputs": [],
   "source": [
    "import numpy as np\n",
    "\n",
    "\n",
    "# Class for a single slot machine. Rewards are Gaussian.\n",
    "class GaussianBandit(object):\n",
    "    def __init__(self, mean=0, stdev=1):\n",
    "        self.mean = mean\n",
    "        self.stdev = stdev\n",
    "\n",
    "    def pull_lever(self):\n",
    "        reward = np.random.normal(self.mean, self.stdev)\n",
    "        return np.round(reward, 1)\n"
   ]
  },
  {
   "cell_type": "markdown",
   "metadata": {},
   "source": [
    "## define a gaussian bandit game"
   ]
  },
  {
   "cell_type": "code",
   "execution_count": 6,
   "metadata": {},
   "outputs": [],
   "source": [
    "class GaussianBanditGame(object):\n",
    "    def __init__(self, bandits):\n",
    "        self.bandits = bandits\n",
    "        np.random.shuffle(self.bandits)\n",
    "        self.reset_game()\n",
    "\n",
    "    def play(self, choice):\n",
    "        reward = self.bandits[choice - 1].pull_lever()\n",
    "        self.rewards.append(reward)\n",
    "        self.total_reward += reward\n",
    "        self.n_played += 1\n",
    "        return reward\n",
    "\n",
    "    def user_play(self):\n",
    "        self.reset_game()\n",
    "        print(\"Game started. \" + \"Enter 0 as input to end the game.\")\n",
    "        while True:\n",
    "            print(f\" -- Round {self.n_played}\")\n",
    "            choice = int(input(f\"Choose a machine \" + f\"from 1 to {len(self.bandits)}: \"))\n",
    "\n",
    "            if choice in range(1, len(self.bandits) + 1):\n",
    "                reward = self.play(choice)\n",
    "                print(f\"Machine {choice} gave \" + f\"a reward of {reward}.\")\n",
    "                avg_rew = self.total_reward/self.n_played\n",
    "                print(f\"Your average reward \" + f\"so far is {avg_rew}.\")\n",
    "            else:\n",
    "                # game has finished\n",
    "                break\n",
    "        print(\"Game has ended.\")\n",
    "\n",
    "        if self.n_played > 0:\n",
    "            print(f\"Total reward is {self.total_reward}\" + f\" after {self.n_played} round(s).\")\n",
    "            avg_rew = self.total_reward/self.n_played\n",
    "            print(f\"Average reward is {avg_rew}.\")\n",
    "\n",
    "    def reset_game(self):\n",
    "        self.rewards = []\n",
    "        self.total_reward = 0\n",
    "        self.n_played = 0"
   ]
  },
  {
   "cell_type": "markdown",
   "metadata": {},
   "source": [
    "## Consume the Multi Armed Bandits"
   ]
  },
  {
   "cell_type": "code",
   "execution_count": 7,
   "metadata": {},
   "outputs": [],
   "source": [
    "slotA = GaussianBandit(5, 3)\n",
    "slotB = GaussianBandit(6, 2)\n",
    "slotC = GaussianBandit(1, 5)\n",
    "game = GaussianBanditGame([slotA, slotB, slotC])"
   ]
  },
  {
   "cell_type": "code",
   "execution_count": 8,
   "metadata": {},
   "outputs": [
    {
     "name": "stdout",
     "output_type": "stream",
     "text": [
      "Game started. Enter 0 as input to end the game.\n",
      " -- Round 0\n",
      "Machine 2 gave a reward of 7.4.\n",
      "Your average reward so far is 7.4.\n",
      " -- Round 1\n",
      "Machine 3 gave a reward of 3.7.\n",
      "Your average reward so far is 5.550000000000001.\n",
      " -- Round 2\n",
      "Machine 1 gave a reward of 8.5.\n",
      "Your average reward so far is 6.533333333333334.\n",
      " -- Round 3\n",
      "Machine 3 gave a reward of 6.4.\n",
      "Your average reward so far is 6.5.\n",
      " -- Round 4\n",
      "Machine 2 gave a reward of 7.3.\n",
      "Your average reward so far is 6.659999999999999.\n",
      " -- Round 5\n",
      "Machine 1 gave a reward of 8.2.\n",
      "Your average reward so far is 6.916666666666667.\n",
      " -- Round 6\n",
      "Machine 3 gave a reward of -3.8.\n",
      "Your average reward so far is 5.385714285714286.\n",
      " -- Round 7\n",
      "Machine 2 gave a reward of 4.4.\n",
      "Your average reward so far is 5.2625.\n",
      " -- Round 8\n",
      "Machine 1 gave a reward of -8.6.\n",
      "Your average reward so far is 3.7222222222222223.\n",
      " -- Round 9\n",
      "Machine 2 gave a reward of 6.4.\n",
      "Your average reward so far is 3.9899999999999998.\n",
      " -- Round 10\n",
      "Machine 3 gave a reward of 2.7.\n",
      "Your average reward so far is 3.872727272727273.\n",
      " -- Round 11\n",
      "Machine 1 gave a reward of 0.4.\n",
      "Your average reward so far is 3.5833333333333335.\n",
      " -- Round 12\n",
      "Machine 3 gave a reward of 4.2.\n",
      "Your average reward so far is 3.630769230769231.\n",
      " -- Round 13\n",
      "Game has ended.\n",
      "Total reward is 47.2 after 13 round(s).\n",
      "Average reward is 3.630769230769231.\n"
     ]
    }
   ],
   "source": [
    "game.user_play()"
   ]
  },
  {
   "cell_type": "markdown",
   "metadata": {},
   "source": [
    "# Bernoulli Bandit for Online Advertisement"
   ]
  },
  {
   "cell_type": "code",
   "execution_count": 10,
   "metadata": {},
   "outputs": [],
   "source": [
    "class BernoulliBandit(object):\n",
    "    def __init__(self, p):\n",
    "        self.p = p\n",
    "    def display_ad(self):\n",
    "        reward = np.random.binomial(n=1, p=self.p)\n",
    "        return reward"
   ]
  },
  {
   "cell_type": "code",
   "execution_count": 11,
   "metadata": {},
   "outputs": [],
   "source": [
    "adA = BernoulliBandit(0.004)\n",
    "adB = BernoulliBandit(0.016)\n",
    "adC = BernoulliBandit(0.02)\n",
    "adD = BernoulliBandit(0.028)\n",
    "adE = BernoulliBandit(0.031)\n",
    "ads = [adA, adB, adC, adD, adE]"
   ]
  },
  {
   "cell_type": "code",
   "execution_count": null,
   "metadata": {},
   "outputs": [],
   "source": []
  }
 ],
 "metadata": {
  "interpreter": {
   "hash": "5481cb5691bc42d3634932d62b8b91c7417c075c76840f38d562c884ea39b1f0"
  },
  "kernelspec": {
   "display_name": "Python 3.8.12 ('livewire')",
   "language": "python",
   "name": "python3"
  },
  "language_info": {
   "codemirror_mode": {
    "name": "ipython",
    "version": 3
   },
   "file_extension": ".py",
   "mimetype": "text/x-python",
   "name": "python",
   "nbconvert_exporter": "python",
   "pygments_lexer": "ipython3",
   "version": "3.8.12"
  },
  "orig_nbformat": 4
 },
 "nbformat": 4,
 "nbformat_minor": 2
}
